{
 "cells": [
  {
   "cell_type": "markdown",
   "id": "2a53e0f0-308f-4ec6-9a82-cab25366efd0",
   "metadata": {},
   "source": [
    "# 데이터 불러오기"
   ]
  },
  {
   "cell_type": "code",
   "execution_count": 1,
   "id": "8e8b7855-952b-48c1-8b8a-d5820eb2feb8",
   "metadata": {},
   "outputs": [],
   "source": [
    "import pandas as pd\n",
    "import numpy as np\n",
    "import matplotlib.pyplot as plt\n",
    "import seaborn as sns\n",
    "import datetime as dt\n",
    "import warnings\n",
    "warnings.filterwarnings('ignore')\n",
    "%matplotlib inline\n",
    "from sklearn.tree import DecisionTreeClassifier\n",
    "from sklearn.tree import export_graphviz\n",
    "from subprocess import check_call\n",
    "from sklearn.model_selection import train_test_split\n",
    "from sklearn.metrics import accuracy_score"
   ]
  },
  {
   "cell_type": "code",
   "execution_count": 2,
   "id": "e7ad39ef-b29f-4be3-af67-acebd819ef04",
   "metadata": {},
   "outputs": [],
   "source": [
    "data_feature = pd.read_csv('./temp_data/save_data_feature.csv',encoding='utf-8').rename(columns = {'Unnamed: 0': 'index'}).set_index('index',drop=True)\n",
    "data_label = pd.read_csv('./temp_data/save_data_label.csv',encoding='utf-8').rename(columns = {'Unnamed: 0': 'index'}).set_index('index',drop=True)\n",
    "x_test = pd.read_csv('./temp_data/save_x_test.csv',encoding='utf-8').rename(columns = {'Unnamed: 0': 'index'}).set_index('index',drop=True)\n",
    "y_test = pd.read_csv('./temp_data/save_y_test.csv',encoding='utf-8').rename(columns = {'Unnamed: 0': 'index'}).set_index('index',drop=True)"
   ]
  },
  {
   "cell_type": "code",
   "execution_count": 3,
   "id": "79f45211-43b9-432f-be59-8836d0f46a1f",
   "metadata": {},
   "outputs": [],
   "source": [
    "x_test_copy = x_test.copy()\n",
    "y_test_copy = y_test.copy()\n",
    "\n",
    "x_test_copy = x_test_copy[data_feature.columns]\n",
    "\n",
    "y_test_copy = y_test_copy.replace('Y',1)\n",
    "y_test_copy = y_test_copy.replace('N',0)"
   ]
  },
  {
   "cell_type": "markdown",
   "id": "5bec05a2-e009-40fa-b537-dd9695361b03",
   "metadata": {},
   "source": [
    "### SMOTE 적용\n",
    " - SMOTE, Boarderline-SMOTE, ADASYN 중 가장 높은 재현율을 보여주는 ADASYN를 사용"
   ]
  },
  {
   "cell_type": "code",
   "execution_count": 4,
   "id": "541f9da1-0de2-4fc7-b615-cea7f1146092",
   "metadata": {},
   "outputs": [],
   "source": [
    "# from imblearn.over_sampling import SMOTE\n",
    "\n",
    "# smote = SMOTE(random_state=42)\n",
    "# x_train_over,y_train_over = smote.fit_resample(data_feature,data_label)\n",
    "\n",
    "# print('SMOTE 적용 전 학습용 피처/레이블 데이터 세트: ', data_feature.shape, data_label.shape)\n",
    "# print('SMOTE 적용 후 학습용 피처/레이블 데이터 세트: ', x_train_over.shape, y_train_over.shape)\n",
    "# print('SMOTE 적용 후 레이블 값 분포: \\n', y_train_over.value_counts())"
   ]
  },
  {
   "cell_type": "code",
   "execution_count": 5,
   "id": "f84229b9-b8ef-403b-abd5-c294c40d806c",
   "metadata": {},
   "outputs": [],
   "source": [
    "# from imblearn.over_sampling import BorderlineSMOTE\n",
    "\n",
    "# bsmote = BorderlineSMOTE(random_state=42)\n",
    "# x_train_over,y_train_over = bsmote.fit_resample(cluster_x_train,cluster_y_train)\n",
    "\n",
    "# print('BorderlineSMOTE 적용 전 학습용 피처/레이블 데이터 세트: ', cluster_x_train.shape, cluster_y_train.shape)\n",
    "# print('BorderlineSMOTE 적용 후 학습용 피처/레이블 데이터 세트: ', x_train_over.shape, y_train_over.shape)\n",
    "# print('BorderlineSMOTE 적용 후 레이블 값 분포: \\n', pd.Series(y_train_over).value_counts())"
   ]
  },
  {
   "cell_type": "code",
   "execution_count": 6,
   "id": "7b3e4281-d26e-4c51-92a4-dd606da835b8",
   "metadata": {},
   "outputs": [
    {
     "name": "stdout",
     "output_type": "stream",
     "text": [
      "ADASYN 적용 전 학습용 피처/레이블 데이터 세트:  (8053, 31) (8053, 1)\n",
      "ADASYN 적용 후 학습용 피처/레이블 데이터 세트:  (14737, 31) (14737, 1)\n",
      "ADASYN 적용 후 레이블 값 분포: \n",
      " SIU_CUST_YN\n",
      "0              7406\n",
      "1              7331\n",
      "dtype: int64\n"
     ]
    }
   ],
   "source": [
    "from imblearn.over_sampling import ADASYN\n",
    "\n",
    "ads = ADASYN(random_state=42)\n",
    "x_train_over,y_train_over = ads.fit_resample(data_feature,data_label)\n",
    "\n",
    "print('ADASYN 적용 전 학습용 피처/레이블 데이터 세트: ', data_feature.shape, data_label.shape)\n",
    "print('ADASYN 적용 후 학습용 피처/레이블 데이터 세트: ', x_train_over.shape, y_train_over.shape)\n",
    "print('ADASYN 적용 후 레이블 값 분포: \\n', y_train_over.value_counts())"
   ]
  },
  {
   "cell_type": "code",
   "execution_count": 7,
   "id": "2ed496b4-9625-4973-8f9c-c95f6fe4242a",
   "metadata": {},
   "outputs": [
    {
     "data": {
      "image/png": "[encoded data removed]",
      "text/plain": [
       "<Figure size 432x288 with 1 Axes>"
      ]
     },
     "metadata": {
      "needs_background": "light"
     },
     "output_type": "display_data"
    },
    {
     "name": "stdout",
     "output_type": "stream",
     "text": [
      "SIU_CUST_YN\n",
      "0              7406\n",
      "1              7331\n",
      "dtype: int64\n",
      "0.5010290294627383\n"
     ]
    }
   ],
   "source": [
    "plt.hist(y_train_over)\n",
    "plt.xticks([0,1])\n",
    "plt.show()\n",
    "\n",
    "print(y_train_over.value_counts())\n",
    "print(9251/(9213+9251))"
   ]
  },
  {
   "cell_type": "markdown",
   "id": "08a5d5af-5d4a-4abb-97fa-b7ec770e4b39",
   "metadata": {},
   "source": [
    "### 모델 생성 및 평가\n",
    " - RandomForest로 모델 생성 후 DecisionTree로 모델의 의사결정을 간접적으로 확인함"
   ]
  },
  {
   "cell_type": "markdown",
   "id": "8c54a68f-22ff-400e-be6c-9a26f92d4ffa",
   "metadata": {},
   "source": [
    "## SMOTE 적용\n",
    "##### SMOTE, Boarderline-SMOTE, ADASYN 중 가장 높은 재현율을 보여주는 ADASYN를 사용"
   ]
  },
  {
   "cell_type": "code",
   "execution_count": 8,
   "id": "f23671d6-d9ac-4389-9947-eb3fa2f5f9f9",
   "metadata": {},
   "outputs": [],
   "source": [
    "# from imblearn.over_sampling import SMOTE\n",
    "\n",
    "# smote = SMOTE(random_state=42)\n",
    "# x_train_over,y_train_over = smote.fit_resample(cluster_x_train,cluster_y_train)\n",
    "\n",
    "# print('SMOTE 적용 전 학습용 피처/레이블 데이터 세트: ', cluster_x_train.shape, cluster_y_train.shape)\n",
    "# print('SMOTE 적용 후 학습용 피처/레이블 데이터 세트: ', x_train_over.shape, y_train_over.shape)\n",
    "# print('SMOTE 적용 후 레이블 값 분포: \\n', pd.Series(y_train_over).value_counts())"
   ]
  },
  {
   "cell_type": "code",
   "execution_count": 9,
   "id": "304d2b29-6007-4523-b2b4-2a738e8913b4",
   "metadata": {},
   "outputs": [],
   "source": [
    "# from imblearn.over_sampling import BorderlineSMOTE\n",
    "\n",
    "# bsmote = BorderlineSMOTE(random_state=42)\n",
    "# x_train_over,y_train_over = bsmote.fit_resample(cluster_x_train,cluster_y_train)\n",
    "\n",
    "# print('BorderlineSMOTE 적용 전 학습용 피처/레이블 데이터 세트: ', cluster_x_train.shape, cluster_y_train.shape)\n",
    "# print('BorderlineSMOTE 적용 후 학습용 피처/레이블 데이터 세트: ', x_train_over.shape, y_train_over.shape)\n",
    "# print('BorderlineSMOTE 적용 후 레이블 값 분포: \\n', pd.Series(y_train_over).value_counts())"
   ]
  },
  {
   "cell_type": "code",
   "execution_count": 10,
   "id": "558cf27c-43fe-4a08-b08c-b5ddc5a69b76",
   "metadata": {},
   "outputs": [
    {
     "name": "stdout",
     "output_type": "stream",
     "text": [
      "ADASYN 적용 전 학습용 피처/레이블 데이터 세트:  (8053, 31) (8053, 1)\n",
      "ADASYN 적용 후 학습용 피처/레이블 데이터 세트:  (14737, 31) (14737, 1)\n",
      "ADASYN 적용 후 레이블 값 분포: \n",
      " SIU_CUST_YN\n",
      "0              7406\n",
      "1              7331\n",
      "dtype: int64\n"
     ]
    }
   ],
   "source": [
    "from imblearn.over_sampling import ADASYN\n",
    "\n",
    "ads = ADASYN(random_state=42)\n",
    "x_train_over,y_train_over = ads.fit_resample(data_feature,data_label)\n",
    "\n",
    "print('ADASYN 적용 전 학습용 피처/레이블 데이터 세트: ', data_feature.shape, data_label.shape)\n",
    "print('ADASYN 적용 후 학습용 피처/레이블 데이터 세트: ', x_train_over.shape, y_train_over.shape)\n",
    "print('ADASYN 적용 후 레이블 값 분포: \\n', y_train_over.value_counts())"
   ]
  },
  {
   "cell_type": "code",
   "execution_count": 11,
   "id": "84d80691-7664-4a86-ba3e-39e77453c13d",
   "metadata": {},
   "outputs": [],
   "source": [
    "from sklearn.impute import SimpleImputer\n",
    "from sklearn.preprocessing import StandardScaler\n",
    "from sklearn.ensemble import RandomForestClassifier\n",
    "from sklearn.pipeline import make_pipeline\n",
    "from sklearn.model_selection import GridSearchCV\n",
    "from sklearn.model_selection import cross_val_predict\n",
    "from sklearn.metrics import confusion_matrix\n",
    "from sklearn.metrics import precision_score, recall_score, f1_score"
   ]
  },
  {
   "cell_type": "markdown",
   "id": "cd0a1c45-faff-4f2a-965c-2614e740d4ce",
   "metadata": {},
   "source": [
    "##### 튜닝 전"
   ]
  },
  {
   "cell_type": "code",
   "execution_count": 12,
   "id": "fc525476-d859-4663-aa31-d012cd4ea575",
   "metadata": {},
   "outputs": [],
   "source": [
    "# DecisionTree Classifier 생성\n",
    "rf_clf = RandomForestClassifier(random_state=42)\n",
    "\n",
    "# DecisionTreeClassifer 학습.\n",
    "\n",
    "\n",
    "rf_clf.fit(x_train_over, y_train_over)# train데이터 fit \n",
    "\n",
    "pred = rf_clf.predict(x_test_copy)"
   ]
  },
  {
   "cell_type": "code",
   "execution_count": 13,
   "id": "6189d8e2-de9a-400f-a5ba-fd3d2bacd546",
   "metadata": {},
   "outputs": [
    {
     "name": "stdout",
     "output_type": "stream",
     "text": [
      "confusion_matrix : \n",
      "[[ 180  186]\n",
      " [ 220 3531]]\n",
      "\n",
      "recall_score :  0.4918032786885246\n"
     ]
    }
   ],
   "source": [
    "cf = confusion_matrix(y_test_copy, pred, labels=[1, 0])\n",
    "print(\"confusion_matrix : \")\n",
    "print(cf)\n",
    "print()\n",
    "r = recall_score(y_test_copy, pred, labels=[1, 0])\n",
    "print(\"recall_score : \" ,r)"
   ]
  },
  {
   "cell_type": "markdown",
   "id": "636e6caf-9b5a-4c54-95c1-c82fadede645",
   "metadata": {},
   "source": [
    "##### 튜닝 후"
   ]
  },
  {
   "cell_type": "code",
   "execution_count": 14,
   "id": "5c0c348f-1a18-4402-8dba-c4e323318cda",
   "metadata": {},
   "outputs": [
    {
     "name": "stdout",
     "output_type": "stream",
     "text": [
      "Fitting 5 folds for each of 81 candidates, totalling 405 fits\n",
      "GridSearchCV 최고 평균 정확도 수치: 0.7857\n",
      "GridSearchCV 최적 하이퍼 파라미터: {'max_depth': 6, 'min_samples_split': 2, 'n_estimators': 10}\n"
     ]
    }
   ],
   "source": [
    "rf_clf = RandomForestClassifier(random_state=42)\n",
    "\n",
    "params = {\n",
    "    'n_estimators' : [10,40,70],\n",
    "    'max_depth' : [3, 6, 9, 12, 15 ,18, 21, 24, 27], \n",
    "    'min_samples_split' : [2, 4, 6]\n",
    "}\n",
    "\n",
    "grid_cv = GridSearchCV(rf_clf, param_grid=params, scoring='recall', cv=5, verbose=1 )\n",
    "grid_cv.fit(x_train_over , y_train_over)\n",
    "print('GridSearchCV 최고 평균 정확도 수치: {0:.4f}'.format(grid_cv.best_score_)) \n",
    "print('GridSearchCV 최적 하이퍼 파라미터:', grid_cv.best_params_)"
   ]
  },
  {
   "cell_type": "markdown",
   "id": "702458cf-8924-493d-8d50-0e7e54ded4f8",
   "metadata": {},
   "source": [
    "##### 모델 평가"
   ]
  },
  {
   "cell_type": "code",
   "execution_count": 15,
   "id": "57f4d579-ccf0-4bff-bac3-84f148f4830b",
   "metadata": {},
   "outputs": [
    {
     "name": "stdout",
     "output_type": "stream",
     "text": [
      "confusion_matrix : \n",
      "[[ 273   93]\n",
      " [ 891 2860]]\n",
      "\n",
      "결정 트리 예측 재현율:0.7459\n",
      "결정 트리 예측 정밀도:0.2345\n",
      "결정 트리 예측 f1:0.3569\n"
     ]
    }
   ],
   "source": [
    "best_rf_clf = grid_cv# GrideSearch 최적의 파라미터 \n",
    "pred1 = best_rf_clf.predict(x_test_copy)\n",
    "\n",
    "cf = confusion_matrix(y_test_copy, pred1, labels=[1, 0])\n",
    "print(\"confusion_matrix : \")\n",
    "print(cf)\n",
    "print()\n",
    "\n",
    "recall = recall_score(y_test_copy , pred1, labels=[1, 0])\n",
    "print('결정 트리 예측 재현율:{0:.4f}'.format(recall))\n",
    "\n",
    "precision = precision_score(y_test_copy , pred1, labels=[1, 0])\n",
    "print('결정 트리 예측 정밀도:{0:.4f}'.format(precision))\n",
    "\n",
    "f1 = f1_score(y_test_copy , pred1, labels=[1, 0])\n",
    "print('결정 트리 예측 f1:{0:.4f}'.format(f1))"
   ]
  },
  {
   "cell_type": "markdown",
   "id": "305a0aff-c68e-44f9-a179-2ec874ab4e46",
   "metadata": {},
   "source": [
    "### 모델의 의사결정을 간접적으로 확인하기 위한 의사결정나무 모델링"
   ]
  },
  {
   "cell_type": "code",
   "execution_count": 16,
   "id": "2d8a13cb-5bc5-4429-bf38-0dfd25eec989",
   "metadata": {},
   "outputs": [
    {
     "name": "stdout",
     "output_type": "stream",
     "text": [
      "confusion_matrix : \n",
      "[[ 154  212]\n",
      " [ 378 3373]]\n",
      "\n",
      "recall_score :  0.4207650273224044\n"
     ]
    }
   ],
   "source": [
    "# DecisionTree Classifier 생성\n",
    "dt_clf = DecisionTreeClassifier(random_state=42)\n",
    "\n",
    "# DecisionTreeClassifer 학습.\n",
    "\n",
    "dt_clf.fit(x_train_over, y_train_over)# train데이터 fit \n",
    "\n",
    "pred = dt_clf.predict(x_test_copy)\n",
    "\n",
    "cf = confusion_matrix(y_test_copy, pred, labels=[1, 0])\n",
    "print(\"confusion_matrix : \")\n",
    "print(cf)\n",
    "print()\n",
    "r = recall_score(y_test_copy, pred, labels=[1, 0])\n",
    "print(\"recall_score : \" ,r)"
   ]
  },
  {
   "cell_type": "markdown",
   "id": "2aefa9da-2402-4d99-a7ed-e9d0142ebab2",
   "metadata": {},
   "source": [
    "##### 하이퍼 파라미터 확인"
   ]
  },
  {
   "cell_type": "code",
   "execution_count": 17,
   "id": "3238e669-81aa-4205-80a3-fa82338e4fb7",
   "metadata": {},
   "outputs": [
    {
     "name": "stdout",
     "output_type": "stream",
     "text": [
      "DecisionTreeClassifier 기본 하이퍼 파라미터:\n",
      " {'ccp_alpha': 0.0, 'class_weight': None, 'criterion': 'gini', 'max_depth': None, 'max_features': None, 'max_leaf_nodes': None, 'min_impurity_decrease': 0.0, 'min_impurity_split': None, 'min_samples_leaf': 1, 'min_samples_split': 2, 'min_weight_fraction_leaf': 0.0, 'random_state': 42, 'splitter': 'best'}\n"
     ]
    }
   ],
   "source": [
    "# DecisionTreeClassifier의 하이퍼 파라미터 추출\n",
    "print('DecisionTreeClassifier 기본 하이퍼 파라미터:\\n', dt_clf.get_params())"
   ]
  },
  {
   "cell_type": "markdown",
   "id": "421594c1-0eed-4ca4-b8f1-fa16cf34c461",
   "metadata": {},
   "source": [
    "##### GridSearchCV를 이용하여 최적의 depth를 찾음\n",
    "##### max_depth와 min_samples_split를 이용하여 튜닝"
   ]
  },
  {
   "cell_type": "code",
   "execution_count": 18,
   "id": "ca87ca53-4cd3-4404-a9af-36b1a244db15",
   "metadata": {},
   "outputs": [
    {
     "name": "stdout",
     "output_type": "stream",
     "text": [
      "Fitting 5 folds for each of 50 candidates, totalling 250 fits\n",
      "GridSearchCV 최고 평균 정확도 수치: 0.7935\n",
      "GridSearchCV 최적 하이퍼 파라미터: {'max_depth': 3, 'min_samples_split': 2}\n"
     ]
    }
   ],
   "source": [
    "dt_clf = DecisionTreeClassifier(random_state=42)\n",
    "\n",
    "params = {\n",
    "    'max_depth' : [3, 6, 9, 12, 15 ,18, 21, 24, 27, 30 ], \n",
    "    'min_samples_split' : [2, 4, 6, 8, 10],\n",
    "}\n",
    "\n",
    "grid_cv = GridSearchCV(dt_clf, param_grid=params, scoring='recall', cv=5, verbose=1 )\n",
    "grid_cv.fit(x_train_over , y_train_over)\n",
    "print('GridSearchCV 최고 평균 정확도 수치: {0:.4f}'.format(grid_cv.best_score_)) \n",
    "print('GridSearchCV 최적 하이퍼 파라미터:', grid_cv.best_params_)"
   ]
  },
  {
   "cell_type": "markdown",
   "id": "4e17920e-8a46-4fa0-ab10-ad8b21c38ede",
   "metadata": {},
   "source": [
    "##### depth별 정확도 확인"
   ]
  },
  {
   "cell_type": "code",
   "execution_count": 19,
   "id": "51ae37d9-01cf-4ade-b4f9-71a98203ea7a",
   "metadata": {},
   "outputs": [],
   "source": [
    "# # GridSearchCV객체의 cv_results_ 속성을 DataFrame으로 생성. \n",
    "# cv_results_df = pd.DataFrame(grid_cv.cv_results_)\n",
    "\n",
    "# # max_depth 파라미터 값과 그때의 테스트(Evaluation)셋, 학습 데이터 셋의 정확도 수치 추출\n",
    "# cv_results_df[['param_max_depth', 'mean_test_score']] \n",
    "\n",
    "# max_depths = [3, 6, 9, 12, 15 ,18, 21, 24 ,27,30]\n",
    "# # max_depth 값을 변화 시키면서 그때마다 학습과 테스트 셋에서의 예측 성능 측정\n",
    "# for depth in max_depths:\n",
    "#     dt_clf = DecisionTreeClassifier(max_depth=depth, random_state=42)\n",
    "#     dt_clf.fit(x_train_over,y_train_over) # train 데이터 fit\n",
    "#     pred = dt_clf.predict(real_x_test) # test 데이터 predict 하기\n",
    "#     recall = recall_score(y_test , pred, labels=[1, 0])\n",
    "#     print('max_depth = {0} 재현율: {1:.4f}'.format(depth , recall))"
   ]
  },
  {
   "cell_type": "markdown",
   "id": "49822ede-c128-4357-a34c-6c4286a08e43",
   "metadata": {},
   "source": [
    "##### 모델 평가"
   ]
  },
  {
   "cell_type": "code",
   "execution_count": 20,
   "id": "52b3ca63-93e9-4b72-89c9-800ede6f55ff",
   "metadata": {},
   "outputs": [
    {
     "name": "stdout",
     "output_type": "stream",
     "text": [
      "confusion_matrix : \n",
      "[[ 266  100]\n",
      " [ 817 2934]]\n",
      "\n",
      "결정 트리 예측 재현율:0.7268\n",
      "결정 트리 예측 정밀도:0.2456\n",
      "결정 트리 예측 f1:0.3671\n"
     ]
    }
   ],
   "source": [
    "best_df_clf = grid_cv# GrideSearch 최적의 파라미터 \n",
    "pred1 = best_df_clf.predict(x_test_copy)\n",
    "\n",
    "cf = confusion_matrix(y_test_copy, pred1, labels=[1, 0])\n",
    "print(\"confusion_matrix : \")\n",
    "print(cf)\n",
    "print()\n",
    "\n",
    "recall = recall_score(y_test_copy , pred1, labels=[1, 0])\n",
    "print('결정 트리 예측 재현율:{0:.4f}'.format(recall))\n",
    "\n",
    "precision = precision_score(y_test_copy , pred1, labels=[1, 0])\n",
    "print('결정 트리 예측 정밀도:{0:.4f}'.format(precision))\n",
    "\n",
    "f1 = f1_score(y_test_copy , pred1, labels=[1, 0])\n",
    "print('결정 트리 예측 f1:{0:.4f}'.format(f1))"
   ]
  },
  {
   "cell_type": "markdown",
   "id": "3fcf3750-d688-4d3d-a629-e5313dc506ba",
   "metadata": {},
   "source": [
    "##### graphviz로 모델 시각화"
   ]
  },
  {
   "cell_type": "code",
   "execution_count": 22,
   "id": "6832f38e-70df-4777-b582-a4277dd14d91",
   "metadata": {},
   "outputs": [
    {
     "data": {
      "image/svg+xml": [
       "<?xml version=\"1.0\" encoding=\"UTF-8\" standalone=\"no\"?>\r\n",
       "<!DOCTYPE svg PUBLIC \"-//W3C//DTD SVG 1.1//EN\"\r\n",
       " \"http://www.w3.org/Graphics/SVG/1.1/DTD/svg11.dtd\">\r\n",
       "<!-- Generated by graphviz version 2.49.3 (20211023.0002)\r\n",
       " -->\r\n",
       "<!-- Title: Tree Pages: 1 -->\r\n",
       "<svg width=\"1108pt\" height=\"373pt\"\r\n",
       " viewBox=\"0.00 0.00 1107.50 373.00\" xmlns=\"http://www.w3.org/2000/svg\" xmlns:xlink=\"http://www.w3.org/1999/xlink\">\r\n",
       "<g id=\"graph0\" class=\"graph\" transform=\"scale(1 1) rotate(0) translate(4 369)\">\r\n",
       "<title>Tree</title>\r\n",
       "<polygon fill=\"white\" stroke=\"transparent\" points=\"-4,4 -4,-369 1103.5,-369 1103.5,4 -4,4\"/>\r\n",
       "<!-- 0 -->\r\n",
       "<g id=\"node1\" class=\"node\">\r\n",
       "<title>0</title>\r\n",
       "<polygon fill=\"#fffefd\" stroke=\"black\" points=\"605,-365 474,-365 474,-297 605,-297 605,-365\"/>\r\n",
       "<text text-anchor=\"middle\" x=\"539.5\" y=\"-349.8\" font-family=\"Times New Roman,serif\" font-size=\"14.00\">X[1] &lt;= 0.001</text>\r\n",
       "<text text-anchor=\"middle\" x=\"539.5\" y=\"-334.8\" font-family=\"Times New Roman,serif\" font-size=\"14.00\">gini = 0.5</text>\r\n",
       "<text text-anchor=\"middle\" x=\"539.5\" y=\"-319.8\" font-family=\"Times New Roman,serif\" font-size=\"14.00\">samples = 14737</text>\r\n",
       "<text text-anchor=\"middle\" x=\"539.5\" y=\"-304.8\" font-family=\"Times New Roman,serif\" font-size=\"14.00\">value = [7406, 7331]</text>\r\n",
       "</g>\r\n",
       "<!-- 1 -->\r\n",
       "<g id=\"node2\" class=\"node\">\r\n",
       "<title>1</title>\r\n",
       "<polygon fill=\"#edaa79\" stroke=\"black\" points=\"471,-261 340,-261 340,-193 471,-193 471,-261\"/>\r\n",
       "<text text-anchor=\"middle\" x=\"405.5\" y=\"-245.8\" font-family=\"Times New Roman,serif\" font-size=\"14.00\">X[9] &lt;= 0.031</text>\r\n",
       "<text text-anchor=\"middle\" x=\"405.5\" y=\"-230.8\" font-family=\"Times New Roman,serif\" font-size=\"14.00\">gini = 0.369</text>\r\n",
       "<text text-anchor=\"middle\" x=\"405.5\" y=\"-215.8\" font-family=\"Times New Roman,serif\" font-size=\"14.00\">samples = 6518</text>\r\n",
       "<text text-anchor=\"middle\" x=\"405.5\" y=\"-200.8\" font-family=\"Times New Roman,serif\" font-size=\"14.00\">value = [4929, 1589]</text>\r\n",
       "</g>\r\n",
       "<!-- 0&#45;&gt;1 -->\r\n",
       "<g id=\"edge1\" class=\"edge\">\r\n",
       "<title>0&#45;&gt;1</title>\r\n",
       "<path fill=\"none\" stroke=\"black\" d=\"M495.99,-296.88C483.71,-287.53 470.21,-277.26 457.48,-267.57\"/>\r\n",
       "<polygon fill=\"black\" stroke=\"black\" points=\"459.32,-264.57 449.25,-261.3 455.08,-270.14 459.32,-264.57\"/>\r\n",
       "<text text-anchor=\"middle\" x=\"452.61\" y=\"-282.37\" font-family=\"Times New Roman,serif\" font-size=\"14.00\">True</text>\r\n",
       "</g>\r\n",
       "<!-- 8 -->\r\n",
       "<g id=\"node9\" class=\"node\">\r\n",
       "<title>8</title>\r\n",
       "<polygon fill=\"#8ec7f0\" stroke=\"black\" points=\"750,-261 619,-261 619,-193 750,-193 750,-261\"/>\r\n",
       "<text text-anchor=\"middle\" x=\"684.5\" y=\"-245.8\" font-family=\"Times New Roman,serif\" font-size=\"14.00\">X[9] &lt;= 0.031</text>\r\n",
       "<text text-anchor=\"middle\" x=\"684.5\" y=\"-230.8\" font-family=\"Times New Roman,serif\" font-size=\"14.00\">gini = 0.421</text>\r\n",
       "<text text-anchor=\"middle\" x=\"684.5\" y=\"-215.8\" font-family=\"Times New Roman,serif\" font-size=\"14.00\">samples = 8219</text>\r\n",
       "<text text-anchor=\"middle\" x=\"684.5\" y=\"-200.8\" font-family=\"Times New Roman,serif\" font-size=\"14.00\">value = [2477, 5742]</text>\r\n",
       "</g>\r\n",
       "<!-- 0&#45;&gt;8 -->\r\n",
       "<g id=\"edge8\" class=\"edge\">\r\n",
       "<title>0&#45;&gt;8</title>\r\n",
       "<path fill=\"none\" stroke=\"black\" d=\"M586.58,-296.88C600,-287.44 614.75,-277.06 628.64,-267.29\"/>\r\n",
       "<polygon fill=\"black\" stroke=\"black\" points=\"631,-269.92 637.16,-261.3 626.97,-264.19 631,-269.92\"/>\r\n",
       "<text text-anchor=\"middle\" x=\"632.87\" y=\"-282.23\" font-family=\"Times New Roman,serif\" font-size=\"14.00\">False</text>\r\n",
       "</g>\r\n",
       "<!-- 2 -->\r\n",
       "<g id=\"node3\" class=\"node\">\r\n",
       "<title>2</title>\r\n",
       "<polygon fill=\"#e99559\" stroke=\"black\" points=\"265,-157 140,-157 140,-89 265,-89 265,-157\"/>\r\n",
       "<text text-anchor=\"middle\" x=\"202.5\" y=\"-141.8\" font-family=\"Times New Roman,serif\" font-size=\"14.00\">X[12] &lt;= 0.5</text>\r\n",
       "<text text-anchor=\"middle\" x=\"202.5\" y=\"-126.8\" font-family=\"Times New Roman,serif\" font-size=\"14.00\">gini = 0.239</text>\r\n",
       "<text text-anchor=\"middle\" x=\"202.5\" y=\"-111.8\" font-family=\"Times New Roman,serif\" font-size=\"14.00\">samples = 4395</text>\r\n",
       "<text text-anchor=\"middle\" x=\"202.5\" y=\"-96.8\" font-family=\"Times New Roman,serif\" font-size=\"14.00\">value = [3786, 609]</text>\r\n",
       "</g>\r\n",
       "<!-- 1&#45;&gt;2 -->\r\n",
       "<g id=\"edge2\" class=\"edge\">\r\n",
       "<title>1&#45;&gt;2</title>\r\n",
       "<path fill=\"none\" stroke=\"black\" d=\"M339.87,-193.02C318.89,-182.48 295.56,-170.76 274.17,-160.01\"/>\r\n",
       "<polygon fill=\"black\" stroke=\"black\" points=\"275.65,-156.84 265.14,-155.47 272.5,-163.09 275.65,-156.84\"/>\r\n",
       "</g>\r\n",
       "<!-- 5 -->\r\n",
       "<g id=\"node6\" class=\"node\">\r\n",
       "<title>5</title>\r\n",
       "<polygon fill=\"#fbede3\" stroke=\"black\" points=\"468,-157 343,-157 343,-89 468,-89 468,-157\"/>\r\n",
       "<text text-anchor=\"middle\" x=\"405.5\" y=\"-141.8\" font-family=\"Times New Roman,serif\" font-size=\"14.00\">X[12] &lt;= 0.5</text>\r\n",
       "<text text-anchor=\"middle\" x=\"405.5\" y=\"-126.8\" font-family=\"Times New Roman,serif\" font-size=\"14.00\">gini = 0.497</text>\r\n",
       "<text text-anchor=\"middle\" x=\"405.5\" y=\"-111.8\" font-family=\"Times New Roman,serif\" font-size=\"14.00\">samples = 2123</text>\r\n",
       "<text text-anchor=\"middle\" x=\"405.5\" y=\"-96.8\" font-family=\"Times New Roman,serif\" font-size=\"14.00\">value = [1143, 980]</text>\r\n",
       "</g>\r\n",
       "<!-- 1&#45;&gt;5 -->\r\n",
       "<g id=\"edge5\" class=\"edge\">\r\n",
       "<title>1&#45;&gt;5</title>\r\n",
       "<path fill=\"none\" stroke=\"black\" d=\"M405.5,-192.88C405.5,-184.78 405.5,-175.98 405.5,-167.47\"/>\r\n",
       "<polygon fill=\"black\" stroke=\"black\" points=\"409,-167.3 405.5,-157.3 402,-167.3 409,-167.3\"/>\r\n",
       "</g>\r\n",
       "<!-- 3 -->\r\n",
       "<g id=\"node4\" class=\"node\">\r\n",
       "<title>3</title>\r\n",
       "<polygon fill=\"#e78945\" stroke=\"black\" points=\"125,-53 0,-53 0,0 125,0 125,-53\"/>\r\n",
       "<text text-anchor=\"middle\" x=\"62.5\" y=\"-37.8\" font-family=\"Times New Roman,serif\" font-size=\"14.00\">gini = 0.109</text>\r\n",
       "<text text-anchor=\"middle\" x=\"62.5\" y=\"-22.8\" font-family=\"Times New Roman,serif\" font-size=\"14.00\">samples = 2968</text>\r\n",
       "<text text-anchor=\"middle\" x=\"62.5\" y=\"-7.8\" font-family=\"Times New Roman,serif\" font-size=\"14.00\">value = [2797, 171]</text>\r\n",
       "</g>\r\n",
       "<!-- 2&#45;&gt;3 -->\r\n",
       "<g id=\"edge3\" class=\"edge\">\r\n",
       "<title>2&#45;&gt;3</title>\r\n",
       "<path fill=\"none\" stroke=\"black\" d=\"M153.53,-88.95C139.17,-79.25 123.5,-68.68 109.27,-59.07\"/>\r\n",
       "<polygon fill=\"black\" stroke=\"black\" points=\"110.88,-55.93 100.63,-53.24 106.96,-61.73 110.88,-55.93\"/>\r\n",
       "</g>\r\n",
       "<!-- 4 -->\r\n",
       "<g id=\"node5\" class=\"node\">\r\n",
       "<title>4</title>\r\n",
       "<polygon fill=\"#f1b991\" stroke=\"black\" points=\"261.5,-53 143.5,-53 143.5,0 261.5,0 261.5,-53\"/>\r\n",
       "<text text-anchor=\"middle\" x=\"202.5\" y=\"-37.8\" font-family=\"Times New Roman,serif\" font-size=\"14.00\">gini = 0.425</text>\r\n",
       "<text text-anchor=\"middle\" x=\"202.5\" y=\"-22.8\" font-family=\"Times New Roman,serif\" font-size=\"14.00\">samples = 1427</text>\r\n",
       "<text text-anchor=\"middle\" x=\"202.5\" y=\"-7.8\" font-family=\"Times New Roman,serif\" font-size=\"14.00\">value = [989, 438]</text>\r\n",
       "</g>\r\n",
       "<!-- 2&#45;&gt;4 -->\r\n",
       "<g id=\"edge4\" class=\"edge\">\r\n",
       "<title>2&#45;&gt;4</title>\r\n",
       "<path fill=\"none\" stroke=\"black\" d=\"M202.5,-88.95C202.5,-80.72 202.5,-71.85 202.5,-63.48\"/>\r\n",
       "<polygon fill=\"black\" stroke=\"black\" points=\"206,-63.24 202.5,-53.24 199,-63.24 206,-63.24\"/>\r\n",
       "</g>\r\n",
       "<!-- 6 -->\r\n",
       "<g id=\"node7\" class=\"node\">\r\n",
       "<title>6</title>\r\n",
       "<polygon fill=\"#f2c09c\" stroke=\"black\" points=\"405,-53 280,-53 280,0 405,0 405,-53\"/>\r\n",
       "<text text-anchor=\"middle\" x=\"342.5\" y=\"-37.8\" font-family=\"Times New Roman,serif\" font-size=\"14.00\">gini = 0.444</text>\r\n",
       "<text text-anchor=\"middle\" x=\"342.5\" y=\"-22.8\" font-family=\"Times New Roman,serif\" font-size=\"14.00\">samples = 1604</text>\r\n",
       "<text text-anchor=\"middle\" x=\"342.5\" y=\"-7.8\" font-family=\"Times New Roman,serif\" font-size=\"14.00\">value = [1070, 534]</text>\r\n",
       "</g>\r\n",
       "<!-- 5&#45;&gt;6 -->\r\n",
       "<g id=\"edge6\" class=\"edge\">\r\n",
       "<title>5&#45;&gt;6</title>\r\n",
       "<path fill=\"none\" stroke=\"black\" d=\"M383.47,-88.95C377.61,-80.17 371.28,-70.66 365.38,-61.82\"/>\r\n",
       "<polygon fill=\"black\" stroke=\"black\" points=\"368.12,-59.62 359.66,-53.24 362.29,-63.5 368.12,-59.62\"/>\r\n",
       "</g>\r\n",
       "<!-- 7 -->\r\n",
       "<g id=\"node8\" class=\"node\">\r\n",
       "<title>7</title>\r\n",
       "<polygon fill=\"#59ade9\" stroke=\"black\" points=\"534,-53 423,-53 423,0 534,0 534,-53\"/>\r\n",
       "<text text-anchor=\"middle\" x=\"478.5\" y=\"-37.8\" font-family=\"Times New Roman,serif\" font-size=\"14.00\">gini = 0.242</text>\r\n",
       "<text text-anchor=\"middle\" x=\"478.5\" y=\"-22.8\" font-family=\"Times New Roman,serif\" font-size=\"14.00\">samples = 519</text>\r\n",
       "<text text-anchor=\"middle\" x=\"478.5\" y=\"-7.8\" font-family=\"Times New Roman,serif\" font-size=\"14.00\">value = [73, 446]</text>\r\n",
       "</g>\r\n",
       "<!-- 5&#45;&gt;7 -->\r\n",
       "<g id=\"edge7\" class=\"edge\">\r\n",
       "<title>5&#45;&gt;7</title>\r\n",
       "<path fill=\"none\" stroke=\"black\" d=\"M431.03,-88.95C437.96,-79.98 445.46,-70.27 452.42,-61.26\"/>\r\n",
       "<polygon fill=\"black\" stroke=\"black\" points=\"455.28,-63.29 458.62,-53.24 449.74,-59.01 455.28,-63.29\"/>\r\n",
       "</g>\r\n",
       "<!-- 9 -->\r\n",
       "<g id=\"node10\" class=\"node\">\r\n",
       "<title>9</title>\r\n",
       "<polygon fill=\"#f6fbfe\" stroke=\"black\" points=\"750,-157 619,-157 619,-89 750,-89 750,-157\"/>\r\n",
       "<text text-anchor=\"middle\" x=\"684.5\" y=\"-141.8\" font-family=\"Times New Roman,serif\" font-size=\"14.00\">X[12] &lt;= 0.5</text>\r\n",
       "<text text-anchor=\"middle\" x=\"684.5\" y=\"-126.8\" font-family=\"Times New Roman,serif\" font-size=\"14.00\">gini = 0.5</text>\r\n",
       "<text text-anchor=\"middle\" x=\"684.5\" y=\"-111.8\" font-family=\"Times New Roman,serif\" font-size=\"14.00\">samples = 3069</text>\r\n",
       "<text text-anchor=\"middle\" x=\"684.5\" y=\"-96.8\" font-family=\"Times New Roman,serif\" font-size=\"14.00\">value = [1499, 1570]</text>\r\n",
       "</g>\r\n",
       "<!-- 8&#45;&gt;9 -->\r\n",
       "<g id=\"edge9\" class=\"edge\">\r\n",
       "<title>8&#45;&gt;9</title>\r\n",
       "<path fill=\"none\" stroke=\"black\" d=\"M684.5,-192.88C684.5,-184.78 684.5,-175.98 684.5,-167.47\"/>\r\n",
       "<polygon fill=\"black\" stroke=\"black\" points=\"688,-167.3 684.5,-157.3 681,-167.3 688,-167.3\"/>\r\n",
       "</g>\r\n",
       "<!-- 12 -->\r\n",
       "<g id=\"node13\" class=\"node\">\r\n",
       "<title>12</title>\r\n",
       "<polygon fill=\"#67b4eb\" stroke=\"black\" points=\"963,-157 838,-157 838,-89 963,-89 963,-157\"/>\r\n",
       "<text text-anchor=\"middle\" x=\"900.5\" y=\"-141.8\" font-family=\"Times New Roman,serif\" font-size=\"14.00\">X[12] &lt;= 0.5</text>\r\n",
       "<text text-anchor=\"middle\" x=\"900.5\" y=\"-126.8\" font-family=\"Times New Roman,serif\" font-size=\"14.00\">gini = 0.308</text>\r\n",
       "<text text-anchor=\"middle\" x=\"900.5\" y=\"-111.8\" font-family=\"Times New Roman,serif\" font-size=\"14.00\">samples = 5150</text>\r\n",
       "<text text-anchor=\"middle\" x=\"900.5\" y=\"-96.8\" font-family=\"Times New Roman,serif\" font-size=\"14.00\">value = [978, 4172]</text>\r\n",
       "</g>\r\n",
       "<!-- 8&#45;&gt;12 -->\r\n",
       "<g id=\"edge12\" class=\"edge\">\r\n",
       "<title>8&#45;&gt;12</title>\r\n",
       "<path fill=\"none\" stroke=\"black\" d=\"M750.19,-194.98C774.95,-183.29 803.23,-169.93 828.54,-157.98\"/>\r\n",
       "<polygon fill=\"black\" stroke=\"black\" points=\"830.17,-161.08 837.72,-153.65 827.18,-154.75 830.17,-161.08\"/>\r\n",
       "</g>\r\n",
       "<!-- 10 -->\r\n",
       "<g id=\"node11\" class=\"node\">\r\n",
       "<title>10</title>\r\n",
       "<polygon fill=\"#eeae7f\" stroke=\"black\" points=\"677,-53 552,-53 552,0 677,0 677,-53\"/>\r\n",
       "<text text-anchor=\"middle\" x=\"614.5\" y=\"-37.8\" font-family=\"Times New Roman,serif\" font-size=\"14.00\">gini = 0.387</text>\r\n",
       "<text text-anchor=\"middle\" x=\"614.5\" y=\"-22.8\" font-family=\"Times New Roman,serif\" font-size=\"14.00\">samples = 1417</text>\r\n",
       "<text text-anchor=\"middle\" x=\"614.5\" y=\"-7.8\" font-family=\"Times New Roman,serif\" font-size=\"14.00\">value = [1046, 371]</text>\r\n",
       "</g>\r\n",
       "<!-- 9&#45;&gt;10 -->\r\n",
       "<g id=\"edge10\" class=\"edge\">\r\n",
       "<title>9&#45;&gt;10</title>\r\n",
       "<path fill=\"none\" stroke=\"black\" d=\"M660.02,-88.95C653.44,-80.07 646.33,-70.46 639.71,-61.54\"/>\r\n",
       "<polygon fill=\"black\" stroke=\"black\" points=\"642.33,-59.19 633.56,-53.24 636.7,-63.36 642.33,-59.19\"/>\r\n",
       "</g>\r\n",
       "<!-- 11 -->\r\n",
       "<g id=\"node12\" class=\"node\">\r\n",
       "<title>11</title>\r\n",
       "<polygon fill=\"#84c2ef\" stroke=\"black\" points=\"820,-53 695,-53 695,0 820,0 820,-53\"/>\r\n",
       "<text text-anchor=\"middle\" x=\"757.5\" y=\"-37.8\" font-family=\"Times New Roman,serif\" font-size=\"14.00\">gini = 0.398</text>\r\n",
       "<text text-anchor=\"middle\" x=\"757.5\" y=\"-22.8\" font-family=\"Times New Roman,serif\" font-size=\"14.00\">samples = 1652</text>\r\n",
       "<text text-anchor=\"middle\" x=\"757.5\" y=\"-7.8\" font-family=\"Times New Roman,serif\" font-size=\"14.00\">value = [453, 1199]</text>\r\n",
       "</g>\r\n",
       "<!-- 9&#45;&gt;11 -->\r\n",
       "<g id=\"edge11\" class=\"edge\">\r\n",
       "<title>9&#45;&gt;11</title>\r\n",
       "<path fill=\"none\" stroke=\"black\" d=\"M710.03,-88.95C716.96,-79.98 724.46,-70.27 731.42,-61.26\"/>\r\n",
       "<polygon fill=\"black\" stroke=\"black\" points=\"734.28,-63.29 737.62,-53.24 728.74,-59.01 734.28,-63.29\"/>\r\n",
       "</g>\r\n",
       "<!-- 13 -->\r\n",
       "<g id=\"node14\" class=\"node\">\r\n",
       "<title>13</title>\r\n",
       "<polygon fill=\"#7fc0ee\" stroke=\"black\" points=\"963,-53 838,-53 838,0 963,0 963,-53\"/>\r\n",
       "<text text-anchor=\"middle\" x=\"900.5\" y=\"-37.8\" font-family=\"Times New Roman,serif\" font-size=\"14.00\">gini = 0.386</text>\r\n",
       "<text text-anchor=\"middle\" x=\"900.5\" y=\"-22.8\" font-family=\"Times New Roman,serif\" font-size=\"14.00\">samples = 3527</text>\r\n",
       "<text text-anchor=\"middle\" x=\"900.5\" y=\"-7.8\" font-family=\"Times New Roman,serif\" font-size=\"14.00\">value = [922, 2605]</text>\r\n",
       "</g>\r\n",
       "<!-- 12&#45;&gt;13 -->\r\n",
       "<g id=\"edge13\" class=\"edge\">\r\n",
       "<title>12&#45;&gt;13</title>\r\n",
       "<path fill=\"none\" stroke=\"black\" d=\"M900.5,-88.95C900.5,-80.72 900.5,-71.85 900.5,-63.48\"/>\r\n",
       "<polygon fill=\"black\" stroke=\"black\" points=\"904,-63.24 900.5,-53.24 897,-63.24 904,-63.24\"/>\r\n",
       "</g>\r\n",
       "<!-- 14 -->\r\n",
       "<g id=\"node15\" class=\"node\">\r\n",
       "<title>14</title>\r\n",
       "<polygon fill=\"#40a1e6\" stroke=\"black\" points=\"1099.5,-53 981.5,-53 981.5,0 1099.5,0 1099.5,-53\"/>\r\n",
       "<text text-anchor=\"middle\" x=\"1040.5\" y=\"-37.8\" font-family=\"Times New Roman,serif\" font-size=\"14.00\">gini = 0.067</text>\r\n",
       "<text text-anchor=\"middle\" x=\"1040.5\" y=\"-22.8\" font-family=\"Times New Roman,serif\" font-size=\"14.00\">samples = 1623</text>\r\n",
       "<text text-anchor=\"middle\" x=\"1040.5\" y=\"-7.8\" font-family=\"Times New Roman,serif\" font-size=\"14.00\">value = [56, 1567]</text>\r\n",
       "</g>\r\n",
       "<!-- 12&#45;&gt;14 -->\r\n",
       "<g id=\"edge14\" class=\"edge\">\r\n",
       "<title>12&#45;&gt;14</title>\r\n",
       "<path fill=\"none\" stroke=\"black\" d=\"M949.47,-88.95C963.83,-79.25 979.5,-68.68 993.73,-59.07\"/>\r\n",
       "<polygon fill=\"black\" stroke=\"black\" points=\"996.04,-61.73 1002.37,-53.24 992.12,-55.93 996.04,-61.73\"/>\r\n",
       "</g>\r\n",
       "</g>\r\n",
       "</svg>\r\n"
      ],
      "text/plain": [
       "<graphviz.files.Source at 0x242aac0c040>"
      ]
     },
     "execution_count": 22,
     "metadata": {},
     "output_type": "execute_result"
    }
   ],
   "source": [
    "# # DecicionTreeClassifier 생성 (max_depth = 3 으로 제한)\n",
    "dt_clf = DecisionTreeClassifier(max_depth=3, min_samples_split=2, random_state=42)\n",
    "dt_clf.fit(x_train_over, y_train_over)\n",
    "\n",
    "# export_graphviz( )의 호출 결과로 out_file로 지정된 tree.dot 파일을 생성함\n",
    "export_graphviz(dt_clf, max_depth=3, out_file=\"tree.dot\", impurity=True, filled=True)\n",
    "\n",
    "import graphviz\n",
    "# 위에서 생성된 tree.dot 파일을 Graphiviz 가 읽어서 시각화\n",
    "with open(\"tree.dot\") as f:\n",
    "    dot_graph = f.read()\n",
    "graphviz.Source(dot_graph)"
   ]
  }
 ],
 "metadata": {
  "kernelspec": {
   "display_name": "Python 3",
   "language": "python",
   "name": "python3"
  },
  "language_info": {
   "codemirror_mode": {
    "name": "ipython",
    "version": 3
   },
   "file_extension": ".py",
   "mimetype": "text/x-python",
   "name": "python",
   "nbconvert_exporter": "python",
   "pygments_lexer": "ipython3",
   "version": "3.8.8"
  }
 },
 "nbformat": 4,
 "nbformat_minor": 5
}
